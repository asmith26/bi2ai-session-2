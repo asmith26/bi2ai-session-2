{
 "cells": [
  {
   "cell_type": "markdown",
   "metadata": {},
   "source": [
    "# Linear Regression: Predicting miles-per-gallon usage in cars <img src=\"logo.png\",width=140,height=140, align=\"right\">"
   ]
  },
  {
   "cell_type": "markdown",
   "metadata": {},
   "source": [
    "Begin by importing all necessary modules"
   ]
  },
  {
   "cell_type": "code",
   "execution_count": 3,
   "metadata": {
    "collapsed": false
   },
   "outputs": [
    {
     "name": "stderr",
     "output_type": "stream",
     "text": [
      "/opt/anaconda/envs/Python3/lib/python3.5/site-packages/sklearn/cross_validation.py:44: DeprecationWarning: This module was deprecated in version 0.18 in favor of the model_selection module into which all the refactored classes and functions are moved. Also note that the interface of the new CV iterators are different from that of this module. This module will be removed in 0.20.\n",
      "  \"This module will be removed in 0.20.\", DeprecationWarning)\n"
     ]
    }
   ],
   "source": [
    "import numpy as np\n",
    "import pandas as pd\n",
    "import matplotlib as mpl\n",
    "import matplotlib.pyplot as plt\n",
    "import pylab\n",
    "%matplotlib inline \n",
    "\n",
    "from sklearn import preprocessing\n",
    "from sklearn.linear_model import LogisticRegression\n",
    "from sklearn.linear_model import LinearRegression\n",
    "from sklearn.cross_validation import train_test_split\n",
    "from sklearn import metrics\n",
    "from sklearn.cross_validation import cross_val_score\n",
    "\n",
    "mpl.style.available\n",
    "mpl.style.use('ggplot') \n"
   ]
  },
  {
   "cell_type": "markdown",
   "metadata": {},
   "source": [
    "The data for this exercise consist 398 datapoints on car-specific features. It can be used to predict city-cycle fuel consumption in miles per gallon (mpg), and has 3 multivalued discrete and 4 continuous variables to use for the prediction. \n",
    "\n",
    "Variable Information:\n",
    "\n",
    "1. mpg: continuous miles-per-gallon\n",
    "2. cylinders: multi-valued discrete \n",
    "3. displacement: continuous \n",
    "4. horsepower: continuous \n",
    "5. weight: continuous \n",
    "6. acceleration: continuous \n",
    "7. model year: multi-valued discrete \n",
    "8. origin: multi-valued discrete \n",
    "9. car name: string (unique for each instance)"
   ]
  },
  {
   "cell_type": "markdown",
   "metadata": {},
   "source": [
    "Let's start by loading our original data file car_data.csv onto a data frame. Use pd.read_csv(...)"
   ]
  },
  {
   "cell_type": "code",
   "execution_count": 4,
   "metadata": {
    "collapsed": false
   },
   "outputs": [],
   "source": [
    "df = pd.read_csv('car_data.csv')"
   ]
  },
  {
   "cell_type": "markdown",
   "metadata": {},
   "source": [
    "OK now that it's loaded, let's have a first look at the data using df.head()"
   ]
  },
  {
   "cell_type": "code",
   "execution_count": 5,
   "metadata": {
    "collapsed": false
   },
   "outputs": [
    {
     "data": {
      "text/html": [
       "<div>\n",
       "<table border=\"1\" class=\"dataframe\">\n",
       "  <thead>\n",
       "    <tr style=\"text-align: right;\">\n",
       "      <th></th>\n",
       "      <th>mpg</th>\n",
       "      <th>cylinders</th>\n",
       "      <th>displacement</th>\n",
       "      <th>horsepower</th>\n",
       "      <th>weight</th>\n",
       "      <th>acceleration</th>\n",
       "      <th>model_year</th>\n",
       "      <th>origin</th>\n",
       "      <th>name</th>\n",
       "    </tr>\n",
       "  </thead>\n",
       "  <tbody>\n",
       "    <tr>\n",
       "      <th>0</th>\n",
       "      <td>18.0</td>\n",
       "      <td>8</td>\n",
       "      <td>307.0</td>\n",
       "      <td>130.0</td>\n",
       "      <td>3504</td>\n",
       "      <td>12.0</td>\n",
       "      <td>70</td>\n",
       "      <td>1</td>\n",
       "      <td>chevrolet chevelle malibu</td>\n",
       "    </tr>\n",
       "    <tr>\n",
       "      <th>1</th>\n",
       "      <td>15.0</td>\n",
       "      <td>8</td>\n",
       "      <td>350.0</td>\n",
       "      <td>165.0</td>\n",
       "      <td>3693</td>\n",
       "      <td>11.5</td>\n",
       "      <td>70</td>\n",
       "      <td>1</td>\n",
       "      <td>buick skylark 320</td>\n",
       "    </tr>\n",
       "    <tr>\n",
       "      <th>2</th>\n",
       "      <td>18.0</td>\n",
       "      <td>8</td>\n",
       "      <td>318.0</td>\n",
       "      <td>150.0</td>\n",
       "      <td>3436</td>\n",
       "      <td>11.0</td>\n",
       "      <td>70</td>\n",
       "      <td>1</td>\n",
       "      <td>plymouth satellite</td>\n",
       "    </tr>\n",
       "    <tr>\n",
       "      <th>3</th>\n",
       "      <td>16.0</td>\n",
       "      <td>8</td>\n",
       "      <td>304.0</td>\n",
       "      <td>150.0</td>\n",
       "      <td>3433</td>\n",
       "      <td>12.0</td>\n",
       "      <td>70</td>\n",
       "      <td>1</td>\n",
       "      <td>amc rebel sst</td>\n",
       "    </tr>\n",
       "    <tr>\n",
       "      <th>4</th>\n",
       "      <td>17.0</td>\n",
       "      <td>8</td>\n",
       "      <td>302.0</td>\n",
       "      <td>140.0</td>\n",
       "      <td>3449</td>\n",
       "      <td>10.5</td>\n",
       "      <td>70</td>\n",
       "      <td>1</td>\n",
       "      <td>ford torino</td>\n",
       "    </tr>\n",
       "  </tbody>\n",
       "</table>\n",
       "</div>"
      ],
      "text/plain": [
       "    mpg  cylinders  displacement  horsepower  weight  acceleration  \\\n",
       "0  18.0          8         307.0       130.0    3504          12.0   \n",
       "1  15.0          8         350.0       165.0    3693          11.5   \n",
       "2  18.0          8         318.0       150.0    3436          11.0   \n",
       "3  16.0          8         304.0       150.0    3433          12.0   \n",
       "4  17.0          8         302.0       140.0    3449          10.5   \n",
       "\n",
       "   model_year  origin                       name  \n",
       "0          70       1  chevrolet chevelle malibu  \n",
       "1          70       1          buick skylark 320  \n",
       "2          70       1         plymouth satellite  \n",
       "3          70       1              amc rebel sst  \n",
       "4          70       1                ford torino  "
      ]
     },
     "execution_count": 5,
     "metadata": {},
     "output_type": "execute_result"
    }
   ],
   "source": [
    "df.head()"
   ]
  },
  {
   "cell_type": "markdown",
   "metadata": {},
   "source": [
    "Do you notice anything regarding the scale of the different features?\n",
    "Now let's investigate this data"
   ]
  },
  {
   "cell_type": "code",
   "execution_count": 6,
   "metadata": {
    "collapsed": false
   },
   "outputs": [
    {
     "data": {
      "text/plain": [
       "(398, 9)"
      ]
     },
     "execution_count": 6,
     "metadata": {},
     "output_type": "execute_result"
    }
   ],
   "source": [
    "df.shape"
   ]
  },
  {
   "cell_type": "markdown",
   "metadata": {},
   "source": [
    "This says that we have 398 observations and 9 variables. We already know that our first variable (mpg) is our predictor variable Y, so that means that we have 8 features. However, let's disregard the name of the cars, as this is not a relevant feature we can use to predict mpg (can you think of why not?). Now let's check whether we have any missing values in our dataset"
   ]
  },
  {
   "cell_type": "code",
   "execution_count": 7,
   "metadata": {
    "collapsed": false
   },
   "outputs": [
    {
     "data": {
      "text/plain": [
       "6"
      ]
     },
     "execution_count": 7,
     "metadata": {},
     "output_type": "execute_result"
    }
   ],
   "source": [
    "np.count_nonzero(df.isnull())   "
   ]
  },
  {
   "cell_type": "markdown",
   "metadata": {},
   "source": [
    "Hmm ok, so that means that there are 6 instances in the dataset where a value is missing. Thankfully it's not too many cases, so let's do the easy thing and drop them. "
   ]
  },
  {
   "cell_type": "code",
   "execution_count": 8,
   "metadata": {
    "collapsed": false
   },
   "outputs": [
    {
     "data": {
      "text/plain": [
       "(392, 9)"
      ]
     },
     "execution_count": 8,
     "metadata": {},
     "output_type": "execute_result"
    }
   ],
   "source": [
    "df=df.dropna(axis=0)\n",
    "df.shape"
   ]
  },
  {
   "cell_type": "markdown",
   "metadata": {},
   "source": [
    "Great, so now that we dropped those missing values, let's have a first look at the thing we want to predict, miles-per-gallon. "
   ]
  },
  {
   "cell_type": "code",
   "execution_count": 9,
   "metadata": {
    "collapsed": false
   },
   "outputs": [
    {
     "data": {
      "text/plain": [
       "count    392.000000\n",
       "mean      23.445918\n",
       "std        7.805007\n",
       "min        9.000000\n",
       "25%       17.000000\n",
       "50%       22.750000\n",
       "75%       29.000000\n",
       "max       46.600000\n",
       "Name: mpg, dtype: float64"
      ]
     },
     "execution_count": 9,
     "metadata": {},
     "output_type": "execute_result"
    },
    {
     "data": {
      "image/png": "[encoded data removed]",
      "text/plain": [
       "<matplotlib.figure.Figure at 0x7fabe1042b38>"
      ]
     },
     "metadata": {},
     "output_type": "display_data"
    }
   ],
   "source": [
    "plt.hist(df.mpg, bins=10)\n",
    "df.mpg.describe()"
   ]
  },
  {
   "cell_type": "markdown",
   "metadata": {},
   "source": [
    "We can see that on average our cars use 23 miles-per-gallon (mpg), but that most of our observations are more in the 15-20 region. A standard deviation of 7 suggests that our observations are quite spread around the mean, and we can see that our cars vary from 9 to 46 miles per gallon in our dataset. \n",
    "\n",
    "Now let's start with plotting some relations between features and mpg in a scatter plot, to get a feel for our data. You can use plt.scatter() to plot horsepower against mpg, then weight against mpg"
   ]
  },
  {
   "cell_type": "code",
   "execution_count": 10,
   "metadata": {
    "collapsed": false
   },
   "outputs": [
    {
     "data": {
      "text/plain": [
       "<matplotlib.collections.PathCollection at 0x7fabddbb2e10>"
      ]
     },
     "execution_count": 10,
     "metadata": {},
     "output_type": "execute_result"
    },
    {
     "data": {
      "image/png": "[encoded data removed]",
      "text/plain": [
       "<matplotlib.figure.Figure at 0x7fabddc79fd0>"
      ]
     },
     "metadata": {},
     "output_type": "display_data"
    }
   ],
   "source": [
    "plt.figure(figsize=(12, 4))\n",
    "plt.scatter(df['horsepower'],df['mpg'], c='b')\n",
    "plt.scatter(df['weight'],df['mpg'], c='r')"
   ]
  },
  {
   "cell_type": "markdown",
   "metadata": {},
   "source": [
    "Woa this looks funky, let's do something about the scale of our variables."
   ]
  },
  {
   "cell_type": "markdown",
   "metadata": {},
   "source": [
    "## Feature Scaling"
   ]
  },
  {
   "cell_type": "markdown",
   "metadata": {},
   "source": [
    "If you look at our different car features, they are measured on very different scales. If we would ignore this, our optimization problem will take long to solve (as we will apply gradient descent on a very weird looking cost function) To make sure all our features are on the same scale, we will apply a little function to feature scale our features. You can also do this with Scikit-learn. \n",
    "\n",
    "\n",
    "Let's write our own function to scale features according to:\n",
    "\n",
    "$$x_i = \\frac{x_i - \\mu_i}{std(x_i)}$$\n",
    "\n",
    "You can use mean() and max() operators built into pandas to do this.\n",
    "The function should return both the scaled input vector, as well as the mean and standard deviation to be used to scale future samples.\n",
    "    "
   ]
  },
  {
   "cell_type": "code",
   "execution_count": 11,
   "metadata": {
    "collapsed": false
   },
   "outputs": [],
   "source": [
    "def FeatureScale(x):\n",
    "    mu = x.mean()\n",
    "    std = x.std()\n",
    "    x_scaled = (x - mu) / std\n",
    "    return x_scaled, mu, std"
   ]
  },
  {
   "cell_type": "markdown",
   "metadata": {},
   "source": [
    "Scale both input features and store in new columns in data frame (also storing mean and standard deviation)"
   ]
  },
  {
   "cell_type": "code",
   "execution_count": 12,
   "metadata": {
    "collapsed": false
   },
   "outputs": [
    {
     "name": "stdout",
     "output_type": "stream",
     "text": [
      "5140\n",
      "2.54580798087\n"
     ]
    }
   ],
   "source": [
    "df['horsepower_scaled'],hp_mu, hp_std = FeatureScale(df.horsepower)\n",
    "df['weight_scaled'], weight_mu, weight_std = FeatureScale(df.weight)\n",
    "# Check that it work by printing the maximum values of the normal weight feature, and the scaled weight feature\n",
    "print (df['weight'].max())\n",
    "print (df['weight_scaled'].max())"
   ]
  },
  {
   "cell_type": "markdown",
   "metadata": {},
   "source": [
    "OK cool, that worked\n",
    "\n",
    "Now let's replot those two features using plt.scatter() to check the scaling effect"
   ]
  },
  {
   "cell_type": "code",
   "execution_count": 13,
   "metadata": {
    "collapsed": false
   },
   "outputs": [
    {
     "data": {
      "text/plain": [
       "<matplotlib.collections.PathCollection at 0x7fabddc075c0>"
      ]
     },
     "execution_count": 13,
     "metadata": {},
     "output_type": "execute_result"
    },
    {
     "data": {
      "image/png": "[encoded data removed]",
      "text/plain": [
       "<matplotlib.figure.Figure at 0x7fabddb57240>"
      ]
     },
     "metadata": {},
     "output_type": "display_data"
    }
   ],
   "source": [
    "plt.figure(figsize=(12, 4))\n",
    "plt.scatter(df.horsepower_scaled,df.mpg, c='b')\n",
    "plt.scatter(df.weight_scaled,df.mpg, c='r')"
   ]
  },
  {
   "cell_type": "markdown",
   "metadata": {},
   "source": [
    "Nice work! Now that we've done the feature scaling with our own function, let me show you how you can do it with an existing package. Let's start first by splitting up our data into our Y variable, or predictor variable, and our X variables, or our feature set X."
   ]
  },
  {
   "cell_type": "code",
   "execution_count": 14,
   "metadata": {
    "collapsed": false
   },
   "outputs": [
    {
     "data": {
      "text/plain": [
       "(392, 7)"
      ]
     },
     "execution_count": 14,
     "metadata": {},
     "output_type": "execute_result"
    }
   ],
   "source": [
    "X = df.iloc[:, 1:8]\n",
    "Y = df.iloc[:, 0]\n",
    "# and let's check whether it worked by getting the shape of our feature set X\n",
    "X.shape"
   ]
  },
  {
   "cell_type": "markdown",
   "metadata": {},
   "source": [
    "Great, that says our feature set is 398 by 7, i.e. it contains 398 observations of cars, with 7 different variables. Now before we can use our fancy scaler from Scikit-learn, we have to transform our feature set X to an array (i.e. a matrix). Right now X is a dataframe, so we can very simply change that with the commands below. "
   ]
  },
  {
   "cell_type": "code",
   "execution_count": 16,
   "metadata": {
    "collapsed": false
   },
   "outputs": [
    {
     "name": "stdout",
     "output_type": "stream",
     "text": [
      "Index(['cylinders', 'displacement', 'horsepower', 'weight', 'acceleration',\n",
      "       'model_year', 'origin'],\n",
      "      dtype='object') [[   8.   307.   130.  ...,   12.    70.     1. ]\n",
      " [   8.   350.   165.  ...,   11.5   70.     1. ]\n",
      " [   8.   318.   150.  ...,   11.    70.     1. ]\n",
      " ..., \n",
      " [   4.   135.    84.  ...,   11.6   82.     1. ]\n",
      " [   4.   120.    79.  ...,   18.6   82.     1. ]\n",
      " [   4.   119.    82.  ...,   19.4   82.     1. ]]\n"
     ]
    }
   ],
   "source": [
    "# Let's transform our dataframe X to an array called features\n",
    "features = np.array(X).astype(np.float)\n",
    "# And let's save our feature names, as an array is a plain matrix without column names. These might come in handy later on\n",
    "header = X.columns\n",
    "# This is what it looks like right now\n",
    "print (header, features)"
   ]
  },
  {
   "cell_type": "markdown",
   "metadata": {},
   "source": [
    "Super, now we're finally ready for our Scikit-learn magic, let's apply the scaler to our feature set"
   ]
  },
  {
   "cell_type": "code",
   "execution_count": 17,
   "metadata": {
    "collapsed": false
   },
   "outputs": [
    {
     "name": "stdout",
     "output_type": "stream",
     "text": [
      "[[ 1.48394702  1.07728956  0.66413273 ..., -1.285258   -1.62531533\n",
      "  -0.71664105]\n",
      " [ 1.48394702  1.48873169  1.57459447 ..., -1.46672362 -1.62531533\n",
      "  -0.71664105]\n",
      " [ 1.48394702  1.1825422   1.18439658 ..., -1.64818924 -1.62531533\n",
      "  -0.71664105]\n",
      " ..., \n",
      " [-0.86401356 -0.56847897 -0.53247413 ..., -1.4304305   1.63640964\n",
      "  -0.71664105]\n",
      " [-0.86401356 -0.7120053  -0.66254009 ...,  1.11008813  1.63640964\n",
      "  -0.71664105]\n",
      " [-0.86401356 -0.72157372 -0.58450051 ...,  1.40043312  1.63640964\n",
      "  -0.71664105]]\n"
     ]
    }
   ],
   "source": [
    "scaler  = preprocessing.StandardScaler().fit(features)\n",
    "feat_scaled = scaler.transform(features)\n",
    "print (feat_scaled)"
   ]
  },
  {
   "cell_type": "markdown",
   "metadata": {},
   "source": [
    "OK, so now that we have scaled our features we're basically ready to start the regression-fun. Before we jump in with Scikit-learn regressions, let's get some intuition for what our regression model actually does. Let's look at the relation between weight and mpg, and let's try to fit a simple model on the weight and mpg scatter plot. "
   ]
  },
  {
   "cell_type": "code",
   "execution_count": 18,
   "metadata": {
    "collapsed": false
   },
   "outputs": [],
   "source": [
    "# Our x variable is going to be weight, and our Y variable (expressed as a function of x , so f(x)) is mpg\n",
    "x = df.weight_scaled"
   ]
  },
  {
   "cell_type": "markdown",
   "metadata": {},
   "source": [
    "Define Linear Function :\n",
    "$$f = \\theta_0 + \\theta_1 x$$"
   ]
  },
  {
   "cell_type": "code",
   "execution_count": 19,
   "metadata": {
    "collapsed": true
   },
   "outputs": [],
   "source": [
    "def LinFunc(x,theta0,theta1):\n",
    "    f = theta0 + theta1*x\n",
    "    return f"
   ]
  },
  {
   "cell_type": "markdown",
   "metadata": {},
   "source": [
    "Choose values for $\\theta_0$ and $\\theta_1$, which we filled in already. Then use linfunc to predict labels (mpg values) for x. We'll save this as a new vector called 'Ypredicted'"
   ]
  },
  {
   "cell_type": "code",
   "execution_count": 20,
   "metadata": {
    "collapsed": true
   },
   "outputs": [],
   "source": [
    "theta0 = 20\n",
    "theta1 = 0\n",
    "Ypredicted = LinFunc(x,theta0,theta1)"
   ]
  },
  {
   "cell_type": "markdown",
   "metadata": {},
   "source": [
    "Ypredicted is thus a simple line, with an intercept theta0 and a slope of theta1. Let's create a scatter plot and overlay our predictions using plt.plot(), we'll now see Ypredicted as a line over the real values in the scatter plot. "
   ]
  },
  {
   "cell_type": "code",
   "execution_count": 21,
   "metadata": {
    "collapsed": false
   },
   "outputs": [
    {
     "data": {
      "text/plain": [
       "[<matplotlib.lines.Line2D at 0x7fabdd9ed208>]"
      ]
     },
     "execution_count": 21,
     "metadata": {},
     "output_type": "execute_result"
    },
    {
     "data": {
      "image/png": "[encoded data removed]",
      "text/plain": [
       "<matplotlib.figure.Figure at 0x7fabdd9ed0f0>"
      ]
     },
     "metadata": {},
     "output_type": "display_data"
    }
   ],
   "source": [
    "plt.scatter(x,Y)\n",
    "plt.plot(x,Ypredicted, c='r')"
   ]
  },
  {
   "cell_type": "markdown",
   "metadata": {},
   "source": [
    "OK that looks like a bad fit, our line does not seem to follow the patters at all, can you change the intercept and slope to get to a better fit to the data?\n",
    "\n",
    "**Exercise:** Vary $\\theta_0$ and $\\theta_1$ parameters above and replot to get good fit"
   ]
  },
  {
   "cell_type": "code",
   "execution_count": 23,
   "metadata": {
    "collapsed": false
   },
   "outputs": [
    {
     "data": {
      "text/plain": [
       "[<matplotlib.lines.Line2D at 0x7fabdd94b630>]"
      ]
     },
     "execution_count": 23,
     "metadata": {},
     "output_type": "execute_result"
    },
    {
     "data": {
      "image/png": "[encoded data removed]",
      "text/plain": [
       "<matplotlib.figure.Figure at 0x7fabdd94b198>"
      ]
     },
     "metadata": {},
     "output_type": "display_data"
    }
   ],
   "source": [
    "#change the values of theta0 and theta1 to better fit a line to the dots of observations\n",
    "theta0 = #INSERT VALUE HERE\n",
    "theta1 = #INSERT VALUE HERE\n",
    "Ypredicted = LinFunc(x,theta0,theta1)\n",
    "plt.scatter(x,Y)\n",
    "plt.plot(x,Ypredicted, c='r')"
   ]
  },
  {
   "cell_type": "markdown",
   "metadata": {},
   "source": [
    "Hopefully you've managed to get the model better fitting to the data. That should give you some intuition as to what a regression model does; it tries to find the best fitting model to the data it observes. Let's now let a machine learning algorithm show us how it's done. "
   ]
  },
  {
   "cell_type": "markdown",
   "metadata": {},
   "source": [
    "## Linear Regression with sklearn\n",
    "\n",
    "So now that we have cleaned, investigated and scaled our data, we're ready for a linear regression using Scikit-Learn. Let's start by splitting our data into a training set and a test set. Scikit-Learn has a function for that we can use. You can learn more about it here: http://scikit-learn.org/stable/modules/generated/sklearn.model_selection.train_test_split.html"
   ]
  },
  {
   "cell_type": "code",
   "execution_count": 24,
   "metadata": {
    "collapsed": true
   },
   "outputs": [],
   "source": [
    "X_train, X_test, y_train, y_test = train_test_split(feat_scaled, Y, test_size=0.5, random_state=0)"
   ]
  },
  {
   "cell_type": "markdown",
   "metadata": {},
   "source": [
    "test_size should be a value between 0 and 1, where the number is an indication for the percentage of train versus test data of the total sample size.\n",
    "\n",
    "It doesn't matter if the random_state is set to 0 or 1 or any other integer. What matters is that it should be the same value each time you run the code, so your results stay the same should you run the code multiple times. You often see random_state=42 being used in official examples of scikit-learn.\n",
    "\n",
    "Random_state, as the name suggests, is used for initializing the internal random number generator, which will decide the splitting of data into train and test indices in your case. \n",
    "\n",
    "The following function helps you get a nicely printed model with the variable names attached to the coefficients in the regression, we will use it later on"
   ]
  },
  {
   "cell_type": "code",
   "execution_count": 25,
   "metadata": {
    "collapsed": false
   },
   "outputs": [],
   "source": [
    "# Define a short function to get the model parameters and features printed (don't worry about understanding this code)\n",
    "def pretty_print_linear(coefs, names, sort = False):\n",
    "    lst = zip(coefs, names)\n",
    "    if sort:\n",
    "        lst = sorted(lst,  key = lambda x:-np.abs(x[0]))\n",
    "    return \" + \".join(\"%s * %s\" % (round(coef, 2), name)\n",
    "                                   for coef, name in lst)"
   ]
  },
  {
   "cell_type": "markdown",
   "metadata": {},
   "source": [
    "OK let's work our magic; let's take the LinearRegression model from Scikit-Learn and let's fit this model to our training data, and then we can print the coefficients of our model to see what it looks like"
   ]
  },
  {
   "cell_type": "code",
   "execution_count": 26,
   "metadata": {
    "collapsed": false
   },
   "outputs": [
    {
     "name": "stdout",
     "output_type": "stream",
     "text": [
      "Our Linear Regression model is as follows:  -5.44 * weight + 2.84 * model_year + 1.38 * displacement + 1.08 * origin + 0.49 * acceleration + -0.46 * horsepower + -0.21 * cylinders\n",
      "[-0.20761531  1.37858796 -0.45631464 -5.44220639  0.48742133  2.83734566\n",
      "  1.08380278]\n"
     ]
    }
   ],
   "source": [
    "model = LinearRegression(fit_intercept=True, normalize=False, copy_X=True, n_jobs=1)\n",
    "# These are the standard settings for LinearRegression, you can therefore also just simply write model=LinearRegression()\n",
    "model.fit(X_train, y_train)\n",
    "print (\"Our Linear Regression model is as follows: \", pretty_print_linear(model.coef_, header, sort=True))\n",
    "print (model.coef_)"
   ]
  },
  {
   "cell_type": "markdown",
   "metadata": {},
   "source": [
    "So do you understand how the model predicts observations? \n",
    "\n",
    "Let's have a look at the following observation, \n",
    "![alt text](example.png)\n",
    "\n",
    "Could we use our model to directly predict miles-per-gallon usage of the Chevrolet Chevelle Malibu based on this? And would it be close to the actual mpg of 18?\n",
    "\n",
    "Well, not it's not that simple. Remember we have scaled our features? So the coefficients of our model are only applicable to the scaled values. Moreover, we have set an intercept for the model, which we haven't displayed here. But with the intercept, the scaled features, and coefficients from our model, we could calculate the predicted values ourselves. But thankfully, Scikit-learn can do it for you! Below we calculate what the values of mpg our model would calculate for the test-part of the dataset. We can use that to compare our predicted mpg values to the actual mpg values, and assess how good our model is in predicting mpg values. \n",
    "\n"
   ]
  },
  {
   "cell_type": "code",
   "execution_count": 27,
   "metadata": {
    "collapsed": true
   },
   "outputs": [],
   "source": [
    "# generate predicted values of mpg based on our model\n",
    "predicted = model.predict(X_test)"
   ]
  },
  {
   "cell_type": "markdown",
   "metadata": {},
   "source": [
    "Now that we have our predicted values, let's see how well they compare to the actual values. We'll look at three metrics to evaluate how well our model does. \n",
    "\n",
    "The R^2 (or R Squared) metric provides an indication of the goodness of fit of a set of predictions to the actual values. This is a value between 0 and 1 for no-fit and perfect fit respectively. Another way of interpreting R^2 is that it represents the % of the variation explained in the predicted variable Y, that can be attributed to features we used in the model. Let'se see what it looks like"
   ]
  },
  {
   "cell_type": "code",
   "execution_count": 28,
   "metadata": {
    "collapsed": false
   },
   "outputs": [
    {
     "name": "stdout",
     "output_type": "stream",
     "text": [
      "0.821206237313\n"
     ]
    }
   ],
   "source": [
    "print (metrics.r2_score(y_test, predicted))"
   ]
  },
  {
   "cell_type": "markdown",
   "metadata": {},
   "source": [
    "So about 80% of our the variation in mpg across cars can be explained by our 7 features, leaving only 20% of variation unexplained. This is not bad actually. \n",
    "\n",
    "The Mean Absolute Error (or MAE) is the sum of the absolute differences between predictions and actual values. It gives an idea of how wrong the predictions were. The closer to 0 this value is, the better. The measure gives an idea of the magnitude of the error, but no idea of the direction (e.g. over or under predicting)."
   ]
  },
  {
   "cell_type": "code",
   "execution_count": 29,
   "metadata": {
    "collapsed": false
   },
   "outputs": [
    {
     "name": "stdout",
     "output_type": "stream",
     "text": [
      "2.52751926975\n"
     ]
    }
   ],
   "source": [
    "print (metrics.mean_absolute_error(y_test, predicted))"
   ]
  },
  {
   "cell_type": "markdown",
   "metadata": {},
   "source": [
    "The Mean Squared Error (or MSE) is much like the mean absolute error in that it provides a gross idea of the magnitude of error.\n",
    "\n",
    "Taking the square root of the mean squared error converts the units back to the original units of the output variable and can be meaningful for description and presentation. This is called the Root Mean Squared Error (or RMSE)."
   ]
  },
  {
   "cell_type": "code",
   "execution_count": 30,
   "metadata": {
    "collapsed": false
   },
   "outputs": [
    {
     "name": "stdout",
     "output_type": "stream",
     "text": [
      "10.6474535415\n",
      "3.26304360092\n"
     ]
    }
   ],
   "source": [
    "print (metrics.mean_squared_error(y_test, predicted)) \n",
    "RMSE= np.sqrt(metrics.mean_squared_error(y_test, predicted)) \n",
    "print (RMSE)"
   ]
  },
  {
   "cell_type": "markdown",
   "metadata": {},
   "source": [
    "OK so now we have a RMSE of 3.3 and a mean absolute error of 2.5, is this any good? \n",
    "Let's put this into context by having another look at the description of our mpg variable."
   ]
  },
  {
   "cell_type": "code",
   "execution_count": 31,
   "metadata": {
    "collapsed": false
   },
   "outputs": [
    {
     "data": {
      "text/plain": [
       "count    392.000000\n",
       "mean      23.445918\n",
       "std        7.805007\n",
       "min        9.000000\n",
       "25%       17.000000\n",
       "50%       22.750000\n",
       "75%       29.000000\n",
       "max       46.600000\n",
       "Name: mpg, dtype: float64"
      ]
     },
     "execution_count": 31,
     "metadata": {},
     "output_type": "execute_result"
    },
    {
     "data": {
      "image/png": "[encoded data removed]",
      "text/plain": [
       "<matplotlib.figure.Figure at 0x7fabdd9fa0b8>"
      ]
     },
     "metadata": {},
     "output_type": "display_data"
    }
   ],
   "source": [
    "plt.hist(Y, bins=10)\n",
    "Y.describe()"
   ]
  },
  {
   "cell_type": "markdown",
   "metadata": {},
   "source": [
    "If we're getting predictions that on average vary 2.5-3 points from their actual value, that's not too bad. It's not super accurate, but at least it's smaller than our standard deviation of 7. \n",
    "\n",
    "Can you think of ways on how to improve the accuracy of our predictions? I.e. how to make the error smaller?"
   ]
  },
  {
   "cell_type": "markdown",
   "metadata": {},
   "source": [
    "**Exercise:** Remember we split our data into half training data, half test data earlier on. Can you increase the % we use for training data and check what that does to our model error? What happens if you reduce the % of data used for training? "
   ]
  },
  {
   "cell_type": "code",
   "execution_count": null,
   "metadata": {
    "collapsed": false
   },
   "outputs": [],
   "source": []
  },
  {
   "cell_type": "markdown",
   "metadata": {},
   "source": [
    "## Appendix: Cross Validation\n",
    "\n",
    "Remember in the first session we discussed cross-validation. We've done a one-off split between test and training data above, but it could very well be that our split determines the outcome of our model quite heavily. To test how robust your model is to the way it is split, you can do a more extensive cross-validation exercise. For example, you can do 5 or 10-fold cross validation. That means splitting your sample 5 or 10 times, refitting the model, recalculating the scores and looking at how your scores differ over your number of splits. Especially with smaller data sets, you may find that the way you have split your data will influence your results. Let's do an exercise where we recalculate our evaluation metrics across 10 different random splits. \n",
    "\n",
    "Scikit-learn has a model for this, which is straightforward to use. You assign a model, give it X and Y, number of times you want to repeat the cross-validation (cv). You can also designate a scorer object with the scoring parameter; All scorer objects follow the convention that higher return values are better than lower return values. Thus metrics which measure the distance between the model and the data, like metrics.mean_squared_error in our case, are available as neg_mean_squared_error which return the negated value of the metric. In order to get results comparable to our previous model, we simply multiply by -1. You can read more on what types of scorer objects are available for the different models here:\n",
    "\n",
    "http://scikit-learn.org/stable/modules/model_evaluation.html"
   ]
  },
  {
   "cell_type": "code",
   "execution_count": 48,
   "metadata": {
    "collapsed": false
   },
   "outputs": [
    {
     "name": "stdout",
     "output_type": "stream",
     "text": [
      "[ 3.0964952   2.97904743  3.4019128   2.88170611  2.15938503  2.59762544\n",
      "  4.29076282  3.54862838  5.5614548   3.85947014]\n",
      "3.55780194387\n"
     ]
    }
   ],
   "source": [
    "# evaluate the model using 10-fold cross-validation\n",
    "\n",
    "scores = cross_val_score(LinearRegression(), X, Y, scoring='neg_mean_squared_error', cv=10)\n",
    "\n",
    "# This returns the negative value of the mean squared error, let's calculate the RMSE to make it comparable to our previous model\n",
    "\n",
    "print (np.sqrt(scores*-1))\n",
    "print (np.sqrt(scores.mean()*-1))"
   ]
  },
  {
   "cell_type": "code",
   "execution_count": 49,
   "metadata": {
    "collapsed": false
   },
   "outputs": [
    {
     "name": "stdout",
     "output_type": "stream",
     "text": [
      "[ 0.6467103   0.77241016  0.59004729  0.7865709   0.80982887  0.83918792\n",
      "  0.57751578  0.75474699  0.10028113  0.54874121]\n",
      "0.64260405469\n"
     ]
    }
   ],
   "source": [
    "scores = cross_val_score(LinearRegression(), X, Y, scoring='r2', cv=10)\n",
    "\n",
    "print (scores)\n",
    "print (scores.mean())\n"
   ]
  },
  {
   "cell_type": "code",
   "execution_count": 50,
   "metadata": {
    "collapsed": false
   },
   "outputs": [
    {
     "name": "stdout",
     "output_type": "stream",
     "text": [
      "[ 2.62506309  2.41938509  2.74317913  2.3843342   1.54245669  2.03655357\n",
      "  3.51601891  2.8135498   4.07907701  3.04052009]\n",
      "2.72001375778\n"
     ]
    }
   ],
   "source": [
    "scores = cross_val_score(LinearRegression(), X, Y, scoring='neg_mean_absolute_error', cv=10)\n",
    "\n",
    "print (scores*-1)\n",
    "print (scores.mean()*-1)"
   ]
  },
  {
   "cell_type": "markdown",
   "metadata": {},
   "source": [
    "**Exercise:** How do you think you can bring down the variance in scores achieved by the cross validation exercise?"
   ]
  },
  {
   "cell_type": "markdown",
   "metadata": {},
   "source": [
    "## Appendix: Feature selection\n",
    "\n",
    "In the slides we've discussed Ridge regression as a way to deal with collinearity. Also Lasso and ElasticNet were mentioned. The latter two are particularly usefull if you're dealing with a massive dataset, with loads and loads of features and you want to prevent overfitting 100s of futures in a model. These tools are quite usefull for that, as they penalize either large coefficient values, or large amounts of features. Ridge regression will force the coefficient values of relatively unimportant features down, Lasso can even force them to zero, and ElasticNet combines the penalties of both. I can recommend looking into these techniques, if you work a lot with regression models. On the implementation side, here is a good source for python code:\n",
    "\n",
    "http://scikit-learn.org/stable/modules/linear_model.html\n",
    "\n",
    "And below are some examples on how to implement these models"
   ]
  },
  {
   "cell_type": "markdown",
   "metadata": {},
   "source": [
    "### Ridge regression\n",
    "Ridge regression addresses some of the problems of a simple Ordinary Least Squares regression by imposing a penalty on the size of coefficients. The ridge coefficients minimize a penalized residual sum of squares,\n",
    "\n",
    "$$\\underset{w}{min\\,} {{|| X w - y||_2}^2 + \\alpha {||w||_2}^2}$$\n",
    "\n",
    "Here, $\\alpha \\geq 0$ is a complexity parameter that controls the amount of shrinkage: the larger the value of $\\alpha$, the greater the amount of shrinkage and thus the coefficients become more robust to collinearity. This is example of how to implement it on our data:"
   ]
  },
  {
   "cell_type": "code",
   "execution_count": 56,
   "metadata": {
    "collapsed": false
   },
   "outputs": [
    {
     "name": "stdout",
     "output_type": "stream",
     "text": [
      "0.813028292557\n",
      "2.54969042686\n",
      "Ridge model: 0.75 * origin + 0.71 * model_year + -0.22 * cylinders + 0.06 * acceleration + -0.01 * horsepower + 0.01 * displacement + -0.01 * weight\n"
     ]
    }
   ],
   "source": [
    "from sklearn.linear_model import Ridge\n",
    "\n",
    "X_train, X_test, y_train, y_test = train_test_split(X, Y, test_size=0.3, random_state=0)\n",
    "\n",
    "model = Ridge(alpha=50)\n",
    "model.fit(X_train, y_train)\n",
    "# generate evaluation metrics\n",
    "predicted = model.predict(X_test)\n",
    "\n",
    "print (metrics.r2_score(y_test, predicted))\n",
    "print (metrics.mean_absolute_error(y_test, predicted))\n",
    "print (\"Ridge model:\", pretty_print_linear(model.coef_, header, sort=True))"
   ]
  },
  {
   "cell_type": "markdown",
   "metadata": {},
   "source": [
    "### Lasso Regression\n",
    "\n",
    "The Lasso is a linear model that estimates sparse coefficients. It is useful in some contexts due to its tendency to prefer solutions with fewer parameter values, effectively reducing the number of variables upon which the given solution is dependent. Under certain conditions, it can recover the exact set of non-zero weights.\n",
    "\n",
    "Mathematically, it consists of a linear model trained with penalty $\\ell_1$ prior as regularizer. The objective function to minimize is:\n",
    "$$\\underset{w}{min\\,} { \\frac{1}{2n_{samples}} ||X w - y||_2 ^ 2 + \\alpha ||w||_1}$$\n",
    "\n",
    "The lasso estimate thus solves the minimization of the least-squares penalty with $\\alpha ||w||_1$ added, where $\\alpha$ is a constant and $||w||_1$ is the $\\ell_1$-norm of the parameter vector. Here's an example of how to implement it:"
   ]
  },
  {
   "cell_type": "code",
   "execution_count": null,
   "metadata": {
    "collapsed": true
   },
   "outputs": [],
   "source": [
    "from sklearn.linear_model import Lasso\n",
    "\n",
    "X_train, X_test, y_train, y_test = train_test_split(X, Y, test_size=0.3, random_state=0)\n",
    "model = Lasso(alpha=0.05)\n",
    "model.fit(X_train, y_train)\n",
    "# generate evaluation metrics\n",
    "predicted = model.predict(X_test)\n",
    "\n",
    "print (metrics.r2_score(y_test, predicted))\n",
    "print (metrics.mean_absolute_error(y_test, predicted))\n",
    "print (\"Lasso model: \", pretty_print_linear(model.coef_, header, sort=True))"
   ]
  },
  {
   "cell_type": "markdown",
   "metadata": {},
   "source": [
    "### Elastic-Net \n",
    "\n",
    "EN is a linear regression model trained with penalties L1 and L2 prior as regularizer. This combination allows for learning a sparse model where few of the weights are non-zero like Lasso, while still maintaining the regularization properties of Ridge. Elastic-net is useful when there are multiple features which are correlated with one another. Lasso is likely to pick one of these at random, while elastic-net is likely to pick both.\n",
    "A practical advantage of trading-off between Lasso and Ridge is it allows Elastic-Net to inherit some of Ridge’s stability under rotation."
   ]
  },
  {
   "cell_type": "code",
   "execution_count": 61,
   "metadata": {
    "collapsed": false
   },
   "outputs": [
    {
     "name": "stdout",
     "output_type": "stream",
     "text": [
      "0.816762668748\n",
      "2.52242140294\n",
      "ElasticNet model:  0.99 * origin + 0.71 * model_year + -0.26 * cylinders + 0.05 * acceleration + -0.01 * horsepower + 0.01 * displacement + -0.01 * weight\n"
     ]
    }
   ],
   "source": [
    "from sklearn.linear_model import ElasticNet\n",
    "\n",
    "X_train, X_test, y_train, y_test = train_test_split(X, Y, test_size=0.3, random_state=0)\n",
    "\n",
    "model = ElasticNet(alpha=0.05, l1_ratio=0.7)\n",
    "model.fit(X_train, y_train)\n",
    "predicted = model.predict(X_test)\n",
    "\n",
    "print (metrics.r2_score(y_test, predicted))\n",
    "print (metrics.mean_absolute_error(y_test, predicted))\n",
    "print (\"ElasticNet model: \", pretty_print_linear(model.coef_, header, sort=True))"
   ]
  },
  {
   "cell_type": "markdown",
   "metadata": {},
   "source": [
    "Copyright © ASI 2017 All rights reserved"
   ]
  },
  {
   "cell_type": "code",
   "execution_count": null,
   "metadata": {
    "collapsed": true
   },
   "outputs": [],
   "source": []
  }
 ],
 "metadata": {
  "kernelspec": {
   "display_name": "Python [default]",
   "language": "python",
   "name": "python3"
  },
  "language_info": {
   "codemirror_mode": {
    "name": "ipython",
    "version": 3
   },
   "file_extension": ".py",
   "mimetype": "text/x-python",
   "name": "python",
   "nbconvert_exporter": "python",
   "pygments_lexer": "ipython3",
   "version": "3.5.2"
  }
 },
 "nbformat": 4,
 "nbformat_minor": 0
}
